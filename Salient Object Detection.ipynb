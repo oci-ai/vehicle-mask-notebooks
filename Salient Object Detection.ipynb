{
 "cells": [
  {
   "cell_type": "markdown",
   "metadata": {},
   "source": [
    "# Salient-Object-Detection\n",
    "This is tensorflow implementation for cvpr2017 paper \"Deeply Supervised Salient Object Detection with Short Connections\"\n",
    "\n",
    "### [Pretrained Model](https://drive.google.com/open?id=0B6l9O8aWij8fUGtVNldUTXA4eHc)"
   ]
  },
  {
   "cell_type": "code",
   "execution_count": null,
   "metadata": {},
   "outputs": [],
   "source": [
    "import os, sys\n",
    "import tensorflow as tf\n",
    "import numpy as np\n",
    "import imageio\n",
    "from skimage.transform import rescale, resize, downscale_local_mean\n",
    "\n",
    "import warnings\n",
    "warnings.filterwarnings('ignore')\n",
    "\n",
    "from types import SimpleNamespace\n",
    "from scipy import misc"
   ]
  },
  {
   "cell_type": "code",
   "execution_count": null,
   "metadata": {},
   "outputs": [],
   "source": [
    "g_mean = np.array(([126.88,120.24,112.19])).reshape([1,1,3])\n",
    "OUTPUT = \"./salient/output\"\n",
    "INPUT = \"./images/original/1C4PJLCX8KD22313103.jpeg\""
   ]
  },
  {
   "cell_type": "code",
   "execution_count": null,
   "metadata": {},
   "outputs": [],
   "source": [
    "def rgba2rgb(img):\n",
    "    return img[:,:,:3]*np.expand_dims(img[:,:,3],2)"
   ]
  },
  {
   "cell_type": "code",
   "execution_count": null,
   "metadata": {},
   "outputs": [],
   "source": [
    "def make_alpha(args):\n",
    "    with tf.Session(config=tf.ConfigProto()) as sess:\n",
    "        saver = tf.train.import_meta_graph('./salient/graph/my-model.meta')\n",
    "        saver.restore(sess,tf.train.latest_checkpoint('./salient/model'))\n",
    "        image_batch = tf.get_collection('image_batch')[0]\n",
    "        pred_mattes = tf.get_collection('mask')[0]\n",
    "\n",
    "        if args.rgb_folder:\n",
    "            rgb_pths = os.listdir(args.rgb_folder)\n",
    "            for rgb_pth in rgb_pths:\n",
    "                rgb = imageio.imread(os.path.join(args.rgb_folder,rgb_pth))\n",
    "                \n",
    "                if rgb.shape[2]==4:\n",
    "                    rgb = rgba2rgb(rgb)\n",
    "                origin_shape = rgb.shape\n",
    "                rgb = np.expand_dims(misc.imresize(rgb.astype(np.uint8),[320,320,3],interp=\"nearest\").astype(np.float32)-g_mean,0)\n",
    "\n",
    "                feed_dict = {image_batch:rgb}\n",
    "                pred_alpha = sess.run(pred_mattes,feed_dict = feed_dict)\n",
    "                final_alpha = misc.imresize(np.squeeze(pred_alpha),origin_shape)\n",
    "                imageio.imwrite(os.path.join(output_folder,rgb_pth),final_alpha)\n",
    "\n",
    "        else:\n",
    "            rgb = imageio.imread(args.rgb)\n",
    "            if rgb.shape[2]==4:\n",
    "                rgb = rgba2rgb(rgb)\n",
    "            origin_shape = rgb.shape[:2]\n",
    "            rgb = np.expand_dims(misc.imresize(rgb.astype(np.uint8),[320,320,3],interp=\"nearest\").astype(np.float32)-g_mean,0)\n",
    "\n",
    "            feed_dict = {image_batch:rgb}\n",
    "            pred_alpha = sess.run(pred_mattes,feed_dict = feed_dict)\n",
    "            final_alpha = misc.imresize(np.squeeze(pred_alpha),origin_shape)\n",
    "            imageio.imwrite(os.path.join(OUTPUT,'alpha.png'),final_alpha)"
   ]
  },
  {
   "cell_type": "code",
   "execution_count": null,
   "metadata": {},
   "outputs": [],
   "source": [
    "d = {'rgb': INPUT, 'rgb_folder': False}\n",
    "n = SimpleNamespace(**d)\n",
    "make_alpha(n)"
   ]
  }
 ],
 "metadata": {
  "kernelspec": {
   "display_name": "Python 3",
   "language": "python",
   "name": "python3"
  },
  "language_info": {
   "codemirror_mode": {
    "name": "ipython",
    "version": 3
   },
   "file_extension": ".py",
   "mimetype": "text/x-python",
   "name": "python",
   "nbconvert_exporter": "python",
   "pygments_lexer": "ipython3",
   "version": "3.6.5"
  }
 },
 "nbformat": 4,
 "nbformat_minor": 2
}
