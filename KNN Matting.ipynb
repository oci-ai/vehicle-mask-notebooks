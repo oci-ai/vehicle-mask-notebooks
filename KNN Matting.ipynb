{
 "cells": [
  {
   "cell_type": "code",
   "execution_count": 1,
   "metadata": {},
   "outputs": [],
   "source": [
    "import numpy as np\n",
    "import sklearn.neighbors\n",
    "import scipy.sparse\n",
    "import warnings\n",
    "import matplotlib.pyplot as plt\n",
    "import scipy.misc\n",
    "import imageio    \n",
    "nn = 10\n",
    "\n",
    "\n",
    "def knn_matte(img, trimap, mylambda=100):\n",
    "    [m, n, c] = img.shape\n",
    "    img, trimap = img/255.0, trimap/255.0\n",
    "    foreground = (trimap > 0.99).astype(int)\n",
    "    background = (trimap < 0.01).astype(int)\n",
    "    all_constraints = foreground + background\n",
    "\n",
    "    print('Finding nearest neighbors')\n",
    "    a, b = np.unravel_index(np.arange(m*n), (m, n))\n",
    "    feature_vec = np.append(np.transpose(img.reshape(m*n,c)), [ a, b]/np.sqrt(m*m + n*n), axis=0).T\n",
    "    nbrs = sklearn.neighbors.NearestNeighbors(n_neighbors=10, n_jobs=4).fit(feature_vec)\n",
    "    knns = nbrs.kneighbors(feature_vec)[1]\n",
    "\n",
    "    # Compute Sparse A\n",
    "    print('Computing sparse A')\n",
    "    row_inds = np.repeat(np.arange(m*n), 10)\n",
    "    col_inds = knns.reshape(m*n*10)\n",
    "    vals = 1 - np.linalg.norm(feature_vec[row_inds] - feature_vec[col_inds], axis=1)/(c+2)\n",
    "    A = scipy.sparse.coo_matrix((vals, (row_inds, col_inds)),shape=(m*n, m*n))\n",
    "\n",
    "    D_script = scipy.sparse.diags(np.ravel(A.sum(axis=1)))\n",
    "    L = D_script-A\n",
    "    D = scipy.sparse.diags(np.ravel(all_constraints[:,:, 0]))\n",
    "    v = np.ravel(foreground[:,:,0])\n",
    "    c = 2*mylambda*np.transpose(v)\n",
    "    H = 2*(L + mylambda*D)\n",
    "\n",
    "    print('Solving linear system for alpha')\n",
    "    warnings.filterwarnings('error')\n",
    "    alpha = []\n",
    "    try:\n",
    "        alpha = np.minimum(np.maximum(scipy.sparse.linalg.spsolve(H, c), 0), 1).reshape(m, n)\n",
    "    except Warning:\n",
    "        x = scipy.sparse.linalg.lsqr(H, c)\n",
    "        alpha = np.minimum(np.maximum(x[0], 0), 1).reshape(m, n)\n",
    "    return alpha\n",
    "\n",
    "\n",
    "\n",
    "\n",
    "    "
   ]
  },
  {
   "cell_type": "code",
   "execution_count": 2,
   "metadata": {},
   "outputs": [
    {
     "name": "stderr",
     "output_type": "stream",
     "text": [
      "/usr/local/lib/python3.6/site-packages/ipykernel_launcher.py:1: DeprecationWarning: `imread` is deprecated!\n",
      "`imread` is deprecated in SciPy 1.0.0, and will be removed in 1.2.0.\n",
      "Use ``imageio.imread`` instead.\n",
      "  \"\"\"Entry point for launching an IPython kernel.\n",
      "/usr/local/lib/python3.6/site-packages/ipykernel_launcher.py:2: DeprecationWarning: `imread` is deprecated!\n",
      "`imread` is deprecated in SciPy 1.0.0, and will be removed in 1.2.0.\n",
      "Use ``imageio.imread`` instead.\n",
      "  \n"
     ]
    },
    {
     "name": "stdout",
     "output_type": "stream",
     "text": [
      "Finding nearest neighbors\n",
      "Computing sparse A\n",
      "Solving linear system for alpha\n"
     ]
    },
    {
     "name": "stderr",
     "output_type": "stream",
     "text": [
      "WARNING:root:Lossy conversion from float64 to uint8. Range [0, 1]. Convert image to uint8 prior to saving to suppress this warning.\n"
     ]
    },
    {
     "data": {
      "image/png": "[encoded data removed]",
      "text/plain": [
       "<matplotlib.figure.Figure at 0x109d47b70>"
      ]
     },
     "metadata": {},
     "output_type": "display_data"
    }
   ],
   "source": [
    "img = scipy.misc.imread('./images/knn/donkey.png')[:,:,:3]\n",
    "trimap = scipy.misc.imread('./images/knn/donkeyTrimap.png')[:,:,:3]\n",
    "alpha = knn_matte(img, trimap)\n",
    "imageio.imwrite('donkeyAlpha.png', alpha)\n",
    "\n",
    "plt.title('Alpha Matte')\n",
    "plt.imshow(alpha, cmap='gray')\n",
    "plt.show()"
   ]
  },
  {
   "cell_type": "code",
   "execution_count": null,
   "metadata": {},
   "outputs": [],
   "source": []
  }
 ],
 "metadata": {
  "kernelspec": {
   "display_name": "Python 3",
   "language": "python",
   "name": "python3"
  },
  "language_info": {
   "codemirror_mode": {
    "name": "ipython",
    "version": 3
   },
   "file_extension": ".py",
   "mimetype": "text/x-python",
   "name": "python",
   "nbconvert_exporter": "python",
   "pygments_lexer": "ipython3",
   "version": "3.6.5"
  }
 },
 "nbformat": 4,
 "nbformat_minor": 2
}
