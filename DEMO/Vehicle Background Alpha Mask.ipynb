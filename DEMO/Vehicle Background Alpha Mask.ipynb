{
 "cells": [
  {
   "cell_type": "code",
   "execution_count": null,
   "metadata": {},
   "outputs": [],
   "source": [
    "import cv2, os, warnings, imageio\n",
    "import numpy as np\n",
    "import tensorflow as tf\n",
    "import matplotlib.pyplot as plt\n",
    "import matplotlib.image as mpimg\n",
    "import matplotlib.gridspec as gridspec\n",
    "\n",
    "from types import SimpleNamespace\n",
    "from scipy import misc\n",
    "\n",
    "%matplotlib inline\n",
    "warnings.filterwarnings('ignore')"
   ]
  },
  {
   "cell_type": "code",
   "execution_count": null,
   "metadata": {},
   "outputs": [],
   "source": [
    "# GLOBAL CAR FILENAME\n",
    "CAR = '1C4PJLCX8KD22313104.jpeg'"
   ]
  },
  {
   "cell_type": "code",
   "execution_count": null,
   "metadata": {},
   "outputs": [],
   "source": [
    "# Display the Original Image\n",
    "filename = './images/original/{0}'.format(CAR)\n",
    "# image = cv2.imread(filename)\n",
    "img = mpimg.imread(filename) \n",
    "plt.rcParams['figure.dpi'] = 200\n",
    "plt.imshow(img)\n",
    "plt.show()"
   ]
  },
  {
   "cell_type": "code",
   "execution_count": null,
   "metadata": {},
   "outputs": [],
   "source": [
    "# # Salient Object Detection - Alpha Mask\n",
    "g_mean = np.array(([126.88,120.24,112.19])).reshape([1,1,3])\n",
    "OUTPUT = \"./images/alpha\"\n",
    "def rgba2rgb(img):\n",
    "    return img[:,:,:3]*np.expand_dims(img[:,:,3],2)\n",
    "def make_saliency_alpha(args):\n",
    "    with tf.Session(config=tf.ConfigProto()) as sess:\n",
    "        saver = tf.train.import_meta_graph('./salient/graph/my-model.meta')\n",
    "        saver.restore(sess,tf.train.latest_checkpoint('./salient/model'))\n",
    "        image_batch = tf.get_collection('image_batch')[0]\n",
    "        pred_mattes = tf.get_collection('mask')[0]\n",
    "\n",
    "        rgb = imageio.imread(args.rgb)\n",
    "\n",
    "        if rgb.shape[2]==4:\n",
    "            rgb = rgba2rgb(rgb)\n",
    "        origin_shape = rgb.shape[:2]\n",
    "        rgb = np.expand_dims(misc.imresize(rgb.astype(np.uint8),[320,320,3], interp=\"bicubic\").astype(np.float32)-g_mean,0)\n",
    "\n",
    "        feed_dict = {image_batch:rgb}\n",
    "        pred_alpha = sess.run(pred_mattes,feed_dict = feed_dict)\n",
    "        final_alpha = misc.imresize(np.squeeze(pred_alpha),origin_shape)\n",
    "        final_name = '{0}.png'.format(args.car)\n",
    "        imageio.imwrite(os.path.join(OUTPUT,final_name),final_alpha)"
   ]
  },
  {
   "cell_type": "code",
   "execution_count": null,
   "metadata": {},
   "outputs": [],
   "source": [
    "# Create the alpha mask\n",
    "INPUT = \"./images/original/{0}\".format(CAR)\n",
    "d = {'rgb': INPUT, 'car':CAR}\n",
    "n = SimpleNamespace(**d)\n",
    "make_saliency_alpha(n)\n",
    "# Display the Alpha\n",
    "filename = './images/alpha/{0}.png'.format(CAR)\n",
    "image = cv2.imread(filename)\n",
    "plt.rcParams['figure.dpi'] = 200\n",
    "plt.imshow(image)\n",
    "plt.show()"
   ]
  },
  {
   "cell_type": "code",
   "execution_count": null,
   "metadata": {},
   "outputs": [],
   "source": [
    "def make_image(car_name):\n",
    "    # Read the images\n",
    "    foreground = mpimg.imread(\"./images/original/{0}\".format(car_name))\n",
    "    background = cv2.imread(\"./images/Background1920.jpeg\")\n",
    "    alpha = cv2.imread(\"./images/alpha/{0}.png\".format(car_name))\n",
    "\n",
    "    # Convert uint8 to float\n",
    "    foreground = foreground.astype(float)\n",
    "    background = background.astype(float)\n",
    "\n",
    "    # Normalize the alpha mask to keep intensity between 0 and 1\n",
    "    alpha = alpha.astype(float)/255\n",
    "\n",
    "    # Multiply the foreground with the alpha matte\n",
    "    foreground = cv2.multiply(alpha, foreground)\n",
    "\n",
    "    # Multiply the background with ( 1 - alpha )\n",
    "    background = cv2.multiply(1.0 - alpha, background)\n",
    "\n",
    "    # Add the masked foreground and background.\n",
    "    outImage = cv2.add(foreground, background)\n",
    "    \n",
    "    out_folder = './images/generated'\n",
    "    fname = car_name.replace('jpeg','')\n",
    "    out_filename = '{0}.png'.format(fname)\n",
    "    imageio.imwrite(os.path.join(out_folder,out_filename),outImage)"
   ]
  },
  {
   "cell_type": "code",
   "execution_count": null,
   "metadata": {},
   "outputs": [],
   "source": [
    "make_image(CAR)"
   ]
  },
  {
   "cell_type": "code",
   "execution_count": null,
   "metadata": {},
   "outputs": [],
   "source": [
    "# Display the Alpha\n",
    "fname = CAR.replace('jpeg','')\n",
    "filename = './images/generated/{0}.png'.format(fname)\n",
    "image = mpimg.imread(filename)\n",
    "                     \n",
    "plt.rcParams['figure.dpi'] = 200\n",
    "plt.imshow(image)\n",
    "plt.show()"
   ]
  },
  {
   "cell_type": "code",
   "execution_count": null,
   "metadata": {},
   "outputs": [],
   "source": []
  }
 ],
 "metadata": {
  "kernelspec": {
   "display_name": "Python 3",
   "language": "python",
   "name": "python3"
  },
  "language_info": {
   "codemirror_mode": {
    "name": "ipython",
    "version": 3
   },
   "file_extension": ".py",
   "mimetype": "text/x-python",
   "name": "python",
   "nbconvert_exporter": "python",
   "pygments_lexer": "ipython3",
   "version": "3.6.5"
  }
 },
 "nbformat": 4,
 "nbformat_minor": 2
}
